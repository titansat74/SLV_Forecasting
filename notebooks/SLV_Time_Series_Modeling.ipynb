{
 "cells": [
  {
   "cell_type": "code",
   "execution_count": 1,
   "metadata": {},
   "outputs": [],
   "source": [
    "import warnings\n",
    "from statsmodels.tools.sm_exceptions import ConvergenceWarning\n",
    "warnings.simplefilter(\"ignore\", category=ConvergenceWarning)"
   ]
  },
  {
   "cell_type": "code",
   "execution_count": 2,
   "metadata": {},
   "outputs": [],
   "source": [
    "import pandas as pd\n",
    "import datetime\n",
    "import pickle\n",
    "import numpy as np\n",
    "import seaborn as sns\n",
    "import statsmodels.api as sm\n",
    "import matplotlib.pyplot as plt\n",
    "%matplotlib inline\n",
    "from sklearn import linear_model\n",
    "from sklearn.preprocessing import RobustScaler\n",
    "from sklearn.model_selection import cross_val_score,cross_validate,train_test_split\n",
    "from statsmodels.graphics.tsaplots import plot_acf,plot_pacf\n",
    "from statsmodels.tsa.arima.model import ARIMA\n",
    "from arch import arch_model\n",
    "from statsmodels.tools.eval_measures import meanabs, rmse\n",
    "from statsmodels.tsa.stattools import adfuller,kpss"
   ]
  },
  {
   "cell_type": "code",
   "execution_count": 3,
   "metadata": {},
   "outputs": [],
   "source": [
    "def invert_difference(data,residual):\n",
    "    ind = data.index.get_loc(residual.index[0])\n",
    "    if ind > 0:\n",
    "        length = len(residual)\n",
    "        vals = np.array(data.iloc[ind-1:ind-1+length]) + np.array(residual)\n",
    "    else:\n",
    "        residual = residual[1:]\n",
    "        length = len(residual)\n",
    "        vals = np.array(data.iloc[ind:ind+length]) + np.array(residual)\n",
    "    result = pd.Series(vals,index=residual.index)\n",
    "    return result"
   ]
  },
  {
   "cell_type": "code",
   "execution_count": 5,
   "metadata": {},
   "outputs": [],
   "source": [
    "path = 'data/SLV_working.pkl'\n",
    "with open(path, 'rb') as f:\n",
    "    slv_clean=pickle.load(f)"
   ]
  },
  {
   "cell_type": "code",
   "execution_count": 6,
   "metadata": {},
   "outputs": [],
   "source": [
    "weekly=slv_clean['Close'].resample('W').last()"
   ]
  },
  {
   "cell_type": "code",
   "execution_count": 8,
   "metadata": {
    "scrolled": true
   },
   "outputs": [],
   "source": [
    "data = weekly.diff().dropna()\n",
    "train_ratio = 0.8\n",
    "split = round(train_ratio * len(data))\n",
    "train, test = data.iloc[0:split], data.iloc[split:]\n",
    "data = weekly\n",
    "slv_train, slv_test = data.iloc[0:split], data.iloc[split:]"
   ]
  },
  {
   "cell_type": "markdown",
   "metadata": {},
   "source": [
    "**To model, we split the data into training and test sets. We use the first 80% of the data as the training set.**"
   ]
  },
  {
   "cell_type": "code",
   "execution_count": 10,
   "metadata": {},
   "outputs": [
    {
     "name": "stderr",
     "output_type": "stream",
     "text": [
      "/Users/macbookpro/opt/anaconda3/lib/python3.7/site-packages/statsmodels/tsa/statespace/sarimax.py:963: UserWarning: Non-stationary starting autoregressive parameters found. Using zeros as starting parameters.\n",
      "  warn('Non-stationary starting autoregressive parameters'\n",
      "/Users/macbookpro/opt/anaconda3/lib/python3.7/site-packages/statsmodels/tsa/statespace/sarimax.py:975: UserWarning: Non-invertible starting MA parameters found. Using zeros as starting parameters.\n",
      "  warn('Non-invertible starting MA parameters found.'\n"
     ]
    },
    {
     "data": {
      "text/html": [
       "<div>\n",
       "<style scoped>\n",
       "    .dataframe tbody tr th:only-of-type {\n",
       "        vertical-align: middle;\n",
       "    }\n",
       "\n",
       "    .dataframe tbody tr th {\n",
       "        vertical-align: top;\n",
       "    }\n",
       "\n",
       "    .dataframe thead th {\n",
       "        text-align: right;\n",
       "    }\n",
       "</style>\n",
       "<table border=\"1\" class=\"dataframe\">\n",
       "  <thead>\n",
       "    <tr style=\"text-align: right;\">\n",
       "      <th></th>\n",
       "      <th>p</th>\n",
       "      <th>d</th>\n",
       "      <th>q</th>\n",
       "      <th>AIC</th>\n",
       "      <th>BIC</th>\n",
       "    </tr>\n",
       "  </thead>\n",
       "  <tbody>\n",
       "    <tr>\n",
       "      <th>32</th>\n",
       "      <td>5</td>\n",
       "      <td>0</td>\n",
       "      <td>2</td>\n",
       "      <td>1842.984056</td>\n",
       "      <td>1878.738059</td>\n",
       "    </tr>\n",
       "    <tr>\n",
       "      <th>38</th>\n",
       "      <td>6</td>\n",
       "      <td>0</td>\n",
       "      <td>2</td>\n",
       "      <td>1844.683292</td>\n",
       "      <td>1884.906545</td>\n",
       "    </tr>\n",
       "    <tr>\n",
       "      <th>39</th>\n",
       "      <td>6</td>\n",
       "      <td>0</td>\n",
       "      <td>3</td>\n",
       "      <td>1846.907703</td>\n",
       "      <td>1891.600206</td>\n",
       "    </tr>\n",
       "    <tr>\n",
       "      <th>82</th>\n",
       "      <td>6</td>\n",
       "      <td>1</td>\n",
       "      <td>4</td>\n",
       "      <td>1853.807829</td>\n",
       "      <td>1902.952515</td>\n",
       "    </tr>\n",
       "    <tr>\n",
       "      <th>83</th>\n",
       "      <td>6</td>\n",
       "      <td>1</td>\n",
       "      <td>5</td>\n",
       "      <td>1856.087509</td>\n",
       "      <td>1909.699893</td>\n",
       "    </tr>\n",
       "  </tbody>\n",
       "</table>\n",
       "</div>"
      ],
      "text/plain": [
       "    p  d  q          AIC          BIC\n",
       "32  5  0  2  1842.984056  1878.738059\n",
       "38  6  0  2  1844.683292  1884.906545\n",
       "39  6  0  3  1846.907703  1891.600206\n",
       "82  6  1  4  1853.807829  1902.952515\n",
       "83  6  1  5  1856.087509  1909.699893"
      ]
     },
     "execution_count": 10,
     "metadata": {},
     "output_type": "execute_result"
    }
   ],
   "source": [
    "metrics = []\n",
    "for d in range(3):\n",
    "    for p in range(7):\n",
    "        for q in range(6):\n",
    "            try:\n",
    "                model = ARIMA(train,order=(p,d,q),trend='n')\n",
    "                result = model.fit()\n",
    "                metrics.append((p,d,q,result.aic,result.bic))\n",
    "            except:\n",
    "                pass\n",
    "metr_diff = pd.DataFrame(metrics,columns=['p','d','q','AIC','BIC'])\n",
    "metr_diff.sort_values('AIC').head()"
   ]
  },
  {
   "cell_type": "code",
   "execution_count": 11,
   "metadata": {},
   "outputs": [
    {
     "data": {
      "text/html": [
       "<div>\n",
       "<style scoped>\n",
       "    .dataframe tbody tr th:only-of-type {\n",
       "        vertical-align: middle;\n",
       "    }\n",
       "\n",
       "    .dataframe tbody tr th {\n",
       "        vertical-align: top;\n",
       "    }\n",
       "\n",
       "    .dataframe thead th {\n",
       "        text-align: right;\n",
       "    }\n",
       "</style>\n",
       "<table border=\"1\" class=\"dataframe\">\n",
       "  <thead>\n",
       "    <tr style=\"text-align: right;\">\n",
       "      <th></th>\n",
       "      <th>p</th>\n",
       "      <th>d</th>\n",
       "      <th>q</th>\n",
       "      <th>AIC</th>\n",
       "      <th>BIC</th>\n",
       "    </tr>\n",
       "  </thead>\n",
       "  <tbody>\n",
       "    <tr>\n",
       "      <th>32</th>\n",
       "      <td>5</td>\n",
       "      <td>0</td>\n",
       "      <td>2</td>\n",
       "      <td>1842.984056</td>\n",
       "      <td>1878.738059</td>\n",
       "    </tr>\n",
       "    <tr>\n",
       "      <th>0</th>\n",
       "      <td>0</td>\n",
       "      <td>0</td>\n",
       "      <td>0</td>\n",
       "      <td>1877.127598</td>\n",
       "      <td>1881.596848</td>\n",
       "    </tr>\n",
       "    <tr>\n",
       "      <th>3</th>\n",
       "      <td>0</td>\n",
       "      <td>0</td>\n",
       "      <td>3</td>\n",
       "      <td>1863.960886</td>\n",
       "      <td>1881.837888</td>\n",
       "    </tr>\n",
       "    <tr>\n",
       "      <th>18</th>\n",
       "      <td>3</td>\n",
       "      <td>0</td>\n",
       "      <td>0</td>\n",
       "      <td>1865.960770</td>\n",
       "      <td>1883.837772</td>\n",
       "    </tr>\n",
       "    <tr>\n",
       "      <th>38</th>\n",
       "      <td>6</td>\n",
       "      <td>0</td>\n",
       "      <td>2</td>\n",
       "      <td>1844.683292</td>\n",
       "      <td>1884.906545</td>\n",
       "    </tr>\n",
       "  </tbody>\n",
       "</table>\n",
       "</div>"
      ],
      "text/plain": [
       "    p  d  q          AIC          BIC\n",
       "32  5  0  2  1842.984056  1878.738059\n",
       "0   0  0  0  1877.127598  1881.596848\n",
       "3   0  0  3  1863.960886  1881.837888\n",
       "18  3  0  0  1865.960770  1883.837772\n",
       "38  6  0  2  1844.683292  1884.906545"
      ]
     },
     "execution_count": 11,
     "metadata": {},
     "output_type": "execute_result"
    }
   ],
   "source": [
    "metr_diff.sort_values('BIC').head()"
   ]
  },
  {
   "cell_type": "code",
   "execution_count": 13,
   "metadata": {},
   "outputs": [
    {
     "name": "stderr",
     "output_type": "stream",
     "text": [
      "/Users/macbookpro/opt/anaconda3/lib/python3.7/site-packages/statsmodels/tsa/statespace/sarimax.py:963: UserWarning: Non-stationary starting autoregressive parameters found. Using zeros as starting parameters.\n",
      "  warn('Non-stationary starting autoregressive parameters'\n",
      "/Users/macbookpro/opt/anaconda3/lib/python3.7/site-packages/statsmodels/tsa/statespace/sarimax.py:975: UserWarning: Non-invertible starting MA parameters found. Using zeros as starting parameters.\n",
      "  warn('Non-invertible starting MA parameters found.'\n"
     ]
    },
    {
     "name": "stdout",
     "output_type": "stream",
     "text": [
      "                               SARIMAX Results                                \n",
      "==============================================================================\n",
      "Dep. Variable:                  Close   No. Observations:                  645\n",
      "Model:                 ARIMA(5, 0, 2)   Log Likelihood                -913.492\n",
      "Date:                Mon, 27 Dec 2021   AIC                           1842.984\n",
      "Time:                        16:45:10   BIC                           1878.738\n",
      "Sample:                    05-07-2006   HQIC                          1856.857\n",
      "                         - 09-09-2018                                         \n",
      "Covariance Type:                  opg                                         \n",
      "==============================================================================\n",
      "                 coef    std err          z      P>|z|      [0.025      0.975]\n",
      "------------------------------------------------------------------------------\n",
      "ar.L1          0.2647      0.049      5.398      0.000       0.169       0.361\n",
      "ar.L2         -0.8804      0.040    -21.772      0.000      -0.960      -0.801\n",
      "ar.L3         -0.1103      0.048     -2.288      0.022      -0.205      -0.016\n",
      "ar.L4          0.0771      0.030      2.557      0.011       0.018       0.136\n",
      "ar.L5         -0.2312      0.035     -6.655      0.000      -0.299      -0.163\n",
      "ma.L1         -0.2117      0.038     -5.639      0.000      -0.285      -0.138\n",
      "ma.L2          0.9109      0.035     25.899      0.000       0.842       0.980\n",
      "sigma2         0.9935      0.025     39.301      0.000       0.944       1.043\n",
      "===================================================================================\n",
      "Ljung-Box (Q):                       60.20   Jarque-Bera (JB):             37854.24\n",
      "Prob(Q):                              0.02   Prob(JB):                         0.00\n",
      "Heteroskedasticity (H):               0.42   Skew:                            -3.16\n",
      "Prob(H) (two-sided):                  0.00   Kurtosis:                        39.99\n",
      "===================================================================================\n",
      "\n",
      "Warnings:\n",
      "[1] Covariance matrix calculated using the outer product of gradients (complex-step).\n"
     ]
    }
   ],
   "source": [
    "model = ARIMA(train,order=(5,0,2),trend='n')\n",
    "arma502 = model.fit()\n",
    "print(arma502.summary())"
   ]
  },
  {
   "cell_type": "code",
   "execution_count": 14,
   "metadata": {},
   "outputs": [
    {
     "data": {
      "image/png": "[encoded data removed]",
      "text/plain": [
       "<Figure size 648x648 with 4 Axes>"
      ]
     },
     "metadata": {
      "needs_background": "light"
     },
     "output_type": "display_data"
    }
   ],
   "source": [
    "arma502.plot_diagnostics(figsize=(9,9))\n",
    "plt.show()"
   ]
  },
  {
   "cell_type": "code",
   "execution_count": 15,
   "metadata": {},
   "outputs": [
    {
     "name": "stderr",
     "output_type": "stream",
     "text": [
      "/Users/macbookpro/opt/anaconda3/lib/python3.7/site-packages/statsmodels/tsa/statespace/sarimax.py:963: UserWarning: Non-stationary starting autoregressive parameters found. Using zeros as starting parameters.\n",
      "  warn('Non-stationary starting autoregressive parameters'\n",
      "/Users/macbookpro/opt/anaconda3/lib/python3.7/site-packages/statsmodels/tsa/statespace/sarimax.py:975: UserWarning: Non-invertible starting MA parameters found. Using zeros as starting parameters.\n",
      "  warn('Non-invertible starting MA parameters found.'\n"
     ]
    },
    {
     "data": {
      "text/html": [
       "<div>\n",
       "<style scoped>\n",
       "    .dataframe tbody tr th:only-of-type {\n",
       "        vertical-align: middle;\n",
       "    }\n",
       "\n",
       "    .dataframe tbody tr th {\n",
       "        vertical-align: top;\n",
       "    }\n",
       "\n",
       "    .dataframe thead th {\n",
       "        text-align: right;\n",
       "    }\n",
       "</style>\n",
       "<table border=\"1\" class=\"dataframe\">\n",
       "  <thead>\n",
       "    <tr style=\"text-align: right;\">\n",
       "      <th></th>\n",
       "      <th>p</th>\n",
       "      <th>d</th>\n",
       "      <th>q</th>\n",
       "      <th>P</th>\n",
       "      <th>D</th>\n",
       "      <th>Q</th>\n",
       "      <th>s</th>\n",
       "      <th>AIC</th>\n",
       "      <th>BIC</th>\n",
       "    </tr>\n",
       "  </thead>\n",
       "  <tbody>\n",
       "    <tr>\n",
       "      <th>316</th>\n",
       "      <td>5</td>\n",
       "      <td>0</td>\n",
       "      <td>2</td>\n",
       "      <td>0</td>\n",
       "      <td>0</td>\n",
       "      <td>0</td>\n",
       "      <td>3</td>\n",
       "      <td>1842.984056</td>\n",
       "      <td>1878.738059</td>\n",
       "    </tr>\n",
       "    <tr>\n",
       "      <th>315</th>\n",
       "      <td>5</td>\n",
       "      <td>0</td>\n",
       "      <td>2</td>\n",
       "      <td>0</td>\n",
       "      <td>0</td>\n",
       "      <td>0</td>\n",
       "      <td>2</td>\n",
       "      <td>1842.984056</td>\n",
       "      <td>1878.738059</td>\n",
       "    </tr>\n",
       "    <tr>\n",
       "      <th>314</th>\n",
       "      <td>5</td>\n",
       "      <td>0</td>\n",
       "      <td>2</td>\n",
       "      <td>0</td>\n",
       "      <td>0</td>\n",
       "      <td>0</td>\n",
       "      <td>0</td>\n",
       "      <td>1842.984056</td>\n",
       "      <td>1878.738059</td>\n",
       "    </tr>\n",
       "    <tr>\n",
       "      <th>318</th>\n",
       "      <td>5</td>\n",
       "      <td>0</td>\n",
       "      <td>2</td>\n",
       "      <td>0</td>\n",
       "      <td>0</td>\n",
       "      <td>2</td>\n",
       "      <td>3</td>\n",
       "      <td>1844.245103</td>\n",
       "      <td>1888.937606</td>\n",
       "    </tr>\n",
       "    <tr>\n",
       "      <th>298</th>\n",
       "      <td>4</td>\n",
       "      <td>0</td>\n",
       "      <td>2</td>\n",
       "      <td>0</td>\n",
       "      <td>0</td>\n",
       "      <td>1</td>\n",
       "      <td>3</td>\n",
       "      <td>1844.979601</td>\n",
       "      <td>1880.733603</td>\n",
       "    </tr>\n",
       "  </tbody>\n",
       "</table>\n",
       "</div>"
      ],
      "text/plain": [
       "     p  d  q  P  D  Q  s          AIC          BIC\n",
       "316  5  0  2  0  0  0  3  1842.984056  1878.738059\n",
       "315  5  0  2  0  0  0  2  1842.984056  1878.738059\n",
       "314  5  0  2  0  0  0  0  1842.984056  1878.738059\n",
       "318  5  0  2  0  0  2  3  1844.245103  1888.937606\n",
       "298  4  0  2  0  0  1  3  1844.979601  1880.733603"
      ]
     },
     "execution_count": 15,
     "metadata": {},
     "output_type": "execute_result"
    }
   ],
   "source": [
    "metrics = []\n",
    "d = 0\n",
    "D = 0\n",
    "for p in range(6):\n",
    "    for q in range(3):\n",
    "        for s in range(4):\n",
    "            for P in range(6):\n",
    "                for Q in range(3):\n",
    "                    try:\n",
    "                        model = ARIMA(train,order=(p,d,q),seasonal_order=(P,D,Q,s),trend='n')\n",
    "                        result = model.fit()\n",
    "                        metrics.append((p,d,q,P,D,Q,s,result.aic,result.bic))\n",
    "                    except:\n",
    "                        pass\n",
    "metr_resid = pd.DataFrame(metrics,columns=['p','d','q','P','D','Q','s','AIC','BIC'])\n",
    "metr_resid.sort_values('AIC').head()"
   ]
  },
  {
   "cell_type": "code",
   "execution_count": 5,
   "metadata": {},
   "outputs": [
    {
     "name": "stderr",
     "output_type": "stream",
     "text": [
      "/Users/macbookpro/opt/anaconda3/lib/python3.7/site-packages/statsmodels/tsa/statespace/sarimax.py:963: UserWarning: Non-stationary starting autoregressive parameters found. Using zeros as starting parameters.\n",
      "  warn('Non-stationary starting autoregressive parameters'\n",
      "/Users/macbookpro/opt/anaconda3/lib/python3.7/site-packages/statsmodels/tsa/statespace/sarimax.py:975: UserWarning: Non-invertible starting MA parameters found. Using zeros as starting parameters.\n",
      "  warn('Non-invertible starting MA parameters found.'\n"
     ]
    },
    {
     "data": {
      "text/html": [
       "<table class=\"simpletable\">\n",
       "<caption>SARIMAX Results</caption>\n",
       "<tr>\n",
       "  <th>Dep. Variable:</th>         <td>Close</td>      <th>  No. Observations:  </th>    <td>644</td>  \n",
       "</tr>\n",
       "<tr>\n",
       "  <th>Model:</th>            <td>ARIMA(5, 0, 2)</td>  <th>  Log Likelihood     </th> <td>-912.576</td>\n",
       "</tr>\n",
       "<tr>\n",
       "  <th>Date:</th>            <td>Mon, 20 Dec 2021</td> <th>  AIC                </th> <td>1841.152</td>\n",
       "</tr>\n",
       "<tr>\n",
       "  <th>Time:</th>                <td>09:58:41</td>     <th>  BIC                </th> <td>1876.893</td>\n",
       "</tr>\n",
       "<tr>\n",
       "  <th>Sample:</th>             <td>05-14-2006</td>    <th>  HQIC               </th> <td>1855.021</td>\n",
       "</tr>\n",
       "<tr>\n",
       "  <th></th>                   <td>- 09-09-2018</td>   <th>                     </th>     <td> </td>   \n",
       "</tr>\n",
       "<tr>\n",
       "  <th>Covariance Type:</th>        <td>opg</td>       <th>                     </th>     <td> </td>   \n",
       "</tr>\n",
       "</table>\n",
       "<table class=\"simpletable\">\n",
       "<tr>\n",
       "     <td></td>       <th>coef</th>     <th>std err</th>      <th>z</th>      <th>P>|z|</th>  <th>[0.025</th>    <th>0.975]</th>  \n",
       "</tr>\n",
       "<tr>\n",
       "  <th>ar.L1</th>  <td>    0.2647</td> <td>    0.049</td> <td>    5.390</td> <td> 0.000</td> <td>    0.168</td> <td>    0.361</td>\n",
       "</tr>\n",
       "<tr>\n",
       "  <th>ar.L2</th>  <td>   -0.8804</td> <td>    0.040</td> <td>  -21.741</td> <td> 0.000</td> <td>   -0.960</td> <td>   -0.801</td>\n",
       "</tr>\n",
       "<tr>\n",
       "  <th>ar.L3</th>  <td>   -0.1103</td> <td>    0.048</td> <td>   -2.285</td> <td> 0.022</td> <td>   -0.205</td> <td>   -0.016</td>\n",
       "</tr>\n",
       "<tr>\n",
       "  <th>ar.L4</th>  <td>    0.0771</td> <td>    0.030</td> <td>    2.555</td> <td> 0.011</td> <td>    0.018</td> <td>    0.136</td>\n",
       "</tr>\n",
       "<tr>\n",
       "  <th>ar.L5</th>  <td>   -0.2311</td> <td>    0.035</td> <td>   -6.645</td> <td> 0.000</td> <td>   -0.299</td> <td>   -0.163</td>\n",
       "</tr>\n",
       "<tr>\n",
       "  <th>ma.L1</th>  <td>   -0.2117</td> <td>    0.038</td> <td>   -5.630</td> <td> 0.000</td> <td>   -0.285</td> <td>   -0.138</td>\n",
       "</tr>\n",
       "<tr>\n",
       "  <th>ma.L2</th>  <td>    0.9109</td> <td>    0.035</td> <td>   25.854</td> <td> 0.000</td> <td>    0.842</td> <td>    0.980</td>\n",
       "</tr>\n",
       "<tr>\n",
       "  <th>sigma2</th> <td>    0.9951</td> <td>    0.025</td> <td>   39.244</td> <td> 0.000</td> <td>    0.945</td> <td>    1.045</td>\n",
       "</tr>\n",
       "</table>\n",
       "<table class=\"simpletable\">\n",
       "<tr>\n",
       "  <th>Ljung-Box (Q):</th>          <td>60.08</td> <th>  Jarque-Bera (JB):  </th> <td>37668.62</td>\n",
       "</tr>\n",
       "<tr>\n",
       "  <th>Prob(Q):</th>                <td>0.02</td>  <th>  Prob(JB):          </th>   <td>0.00</td>  \n",
       "</tr>\n",
       "<tr>\n",
       "  <th>Heteroskedasticity (H):</th> <td>0.41</td>  <th>  Skew:              </th>   <td>-3.16</td> \n",
       "</tr>\n",
       "<tr>\n",
       "  <th>Prob(H) (two-sided):</th>    <td>0.00</td>  <th>  Kurtosis:          </th>   <td>39.93</td> \n",
       "</tr>\n",
       "</table><br/><br/>Warnings:<br/>[1] Covariance matrix calculated using the outer product of gradients (complex-step)."
      ],
      "text/plain": [
       "<class 'statsmodels.iolib.summary.Summary'>\n",
       "\"\"\"\n",
       "                               SARIMAX Results                                \n",
       "==============================================================================\n",
       "Dep. Variable:                  Close   No. Observations:                  644\n",
       "Model:                 ARIMA(5, 0, 2)   Log Likelihood                -912.576\n",
       "Date:                Mon, 20 Dec 2021   AIC                           1841.152\n",
       "Time:                        09:58:41   BIC                           1876.893\n",
       "Sample:                    05-14-2006   HQIC                          1855.021\n",
       "                         - 09-09-2018                                         \n",
       "Covariance Type:                  opg                                         \n",
       "==============================================================================\n",
       "                 coef    std err          z      P>|z|      [0.025      0.975]\n",
       "------------------------------------------------------------------------------\n",
       "ar.L1          0.2647      0.049      5.390      0.000       0.168       0.361\n",
       "ar.L2         -0.8804      0.040    -21.741      0.000      -0.960      -0.801\n",
       "ar.L3         -0.1103      0.048     -2.285      0.022      -0.205      -0.016\n",
       "ar.L4          0.0771      0.030      2.555      0.011       0.018       0.136\n",
       "ar.L5         -0.2311      0.035     -6.645      0.000      -0.299      -0.163\n",
       "ma.L1         -0.2117      0.038     -5.630      0.000      -0.285      -0.138\n",
       "ma.L2          0.9109      0.035     25.854      0.000       0.842       0.980\n",
       "sigma2         0.9951      0.025     39.244      0.000       0.945       1.045\n",
       "===================================================================================\n",
       "Ljung-Box (Q):                       60.08   Jarque-Bera (JB):             37668.62\n",
       "Prob(Q):                              0.02   Prob(JB):                         0.00\n",
       "Heteroskedasticity (H):               0.41   Skew:                            -3.16\n",
       "Prob(H) (two-sided):                  0.00   Kurtosis:                        39.93\n",
       "===================================================================================\n",
       "\n",
       "Warnings:\n",
       "[1] Covariance matrix calculated using the outer product of gradients (complex-step).\n",
       "\"\"\""
      ]
     },
     "execution_count": 5,
     "metadata": {},
     "output_type": "execute_result"
    }
   ],
   "source": [
    "prediction502 = "
   ]
  },
  {
   "cell_type": "code",
   "execution_count": 16,
   "metadata": {},
   "outputs": [
    {
     "data": {
      "text/html": [
       "<div>\n",
       "<style scoped>\n",
       "    .dataframe tbody tr th:only-of-type {\n",
       "        vertical-align: middle;\n",
       "    }\n",
       "\n",
       "    .dataframe tbody tr th {\n",
       "        vertical-align: top;\n",
       "    }\n",
       "\n",
       "    .dataframe thead th {\n",
       "        text-align: right;\n",
       "    }\n",
       "</style>\n",
       "<table border=\"1\" class=\"dataframe\">\n",
       "  <thead>\n",
       "    <tr style=\"text-align: right;\">\n",
       "      <th></th>\n",
       "      <th>p</th>\n",
       "      <th>q</th>\n",
       "      <th>skew</th>\n",
       "      <th>AIC</th>\n",
       "      <th>BIC</th>\n",
       "    </tr>\n",
       "  </thead>\n",
       "  <tbody>\n",
       "    <tr>\n",
       "      <th>44</th>\n",
       "      <td>3</td>\n",
       "      <td>2</td>\n",
       "      <td>no</td>\n",
       "      <td>1454.368047</td>\n",
       "      <td>1490.122050</td>\n",
       "    </tr>\n",
       "    <tr>\n",
       "      <th>43</th>\n",
       "      <td>3</td>\n",
       "      <td>1</td>\n",
       "      <td>no</td>\n",
       "      <td>1455.130842</td>\n",
       "      <td>1486.415595</td>\n",
       "    </tr>\n",
       "    <tr>\n",
       "      <th>31</th>\n",
       "      <td>1</td>\n",
       "      <td>1</td>\n",
       "      <td>no</td>\n",
       "      <td>1455.171196</td>\n",
       "      <td>1477.517448</td>\n",
       "    </tr>\n",
       "    <tr>\n",
       "      <th>50</th>\n",
       "      <td>4</td>\n",
       "      <td>2</td>\n",
       "      <td>no</td>\n",
       "      <td>1455.470298</td>\n",
       "      <td>1495.693551</td>\n",
       "    </tr>\n",
       "    <tr>\n",
       "      <th>38</th>\n",
       "      <td>2</td>\n",
       "      <td>2</td>\n",
       "      <td>no</td>\n",
       "      <td>1455.994472</td>\n",
       "      <td>1487.279224</td>\n",
       "    </tr>\n",
       "    <tr>\n",
       "      <th>14</th>\n",
       "      <td>3</td>\n",
       "      <td>2</td>\n",
       "      <td>yes</td>\n",
       "      <td>1456.147771</td>\n",
       "      <td>1496.371024</td>\n",
       "    </tr>\n",
       "  </tbody>\n",
       "</table>\n",
       "</div>"
      ],
      "text/plain": [
       "    p  q skew          AIC          BIC\n",
       "44  3  2   no  1454.368047  1490.122050\n",
       "43  3  1   no  1455.130842  1486.415595\n",
       "31  1  1   no  1455.171196  1477.517448\n",
       "50  4  2   no  1455.470298  1495.693551\n",
       "38  2  2   no  1455.994472  1487.279224\n",
       "14  3  2  yes  1456.147771  1496.371024"
      ]
     },
     "execution_count": 16,
     "metadata": {},
     "output_type": "execute_result"
    }
   ],
   "source": [
    "residual = arma502.resid\n",
    "metrics = []\n",
    "for p in range(6):\n",
    "    for q in range(6):\n",
    "        try:\n",
    "            gmodel = arch_model(residual,p=p,q=q,mean='Constant',vol='GARCH',dist='skewt')\n",
    "            gresult = gmodel.fit(disp='off')\n",
    "            metrics.append((p,q,'yes',gresult.aic,gresult.bic))\n",
    "        except:\n",
    "            pass\n",
    "for p in range(6):\n",
    "    for q in range(6):\n",
    "        try:\n",
    "            gmodel = arch_model(residual,p=p,q=q,mean='Constant',vol='GARCH',dist='t')\n",
    "            gresult = gmodel.fit(disp='off')\n",
    "            metrics.append((p,q,'no',gresult.aic,gresult.bic))\n",
    "        except:\n",
    "            pass\n",
    "metr_resid = pd.DataFrame(metrics,columns=['p','q','skew','AIC','BIC'])\n",
    "metr_resid.sort_values('AIC').head(6)"
   ]
  },
  {
   "cell_type": "code",
   "execution_count": 17,
   "metadata": {},
   "outputs": [
    {
     "data": {
      "text/html": [
       "<table class=\"simpletable\">\n",
       "<caption>Constant Mean - GARCH Model Results</caption>\n",
       "<tr>\n",
       "  <th>Dep. Variable:</th>           <td>None</td>           <th>  R-squared:         </th>  <td>   0.000</td> \n",
       "</tr>\n",
       "<tr>\n",
       "  <th>Mean Model:</th>          <td>Constant Mean</td>      <th>  Adj. R-squared:    </th>  <td>   0.000</td> \n",
       "</tr>\n",
       "<tr>\n",
       "  <th>Vol Model:</th>               <td>GARCH</td>          <th>  Log-Likelihood:    </th> <td>  -719.184</td>\n",
       "</tr>\n",
       "<tr>\n",
       "  <th>Distribution:</th>  <td>Standardized Student's t</td> <th>  AIC:               </th> <td>   1454.37</td>\n",
       "</tr>\n",
       "<tr>\n",
       "  <th>Method:</th>           <td>Maximum Likelihood</td>    <th>  BIC:               </th> <td>   1490.12</td>\n",
       "</tr>\n",
       "<tr>\n",
       "  <th></th>                           <td></td>             <th>  No. Observations:  </th>     <td>645</td>   \n",
       "</tr>\n",
       "<tr>\n",
       "  <th>Date:</th>              <td>Mon, Dec 27 2021</td>     <th>  Df Residuals:      </th>     <td>644</td>   \n",
       "</tr>\n",
       "<tr>\n",
       "  <th>Time:</th>                  <td>16:54:58</td>         <th>  Df Model:          </th>      <td>1</td>    \n",
       "</tr>\n",
       "</table>\n",
       "<table class=\"simpletable\">\n",
       "<caption>Mean Model</caption>\n",
       "<tr>\n",
       "   <td></td>     <th>coef</th>     <th>std err</th>      <th>t</th>       <th>P>|t|</th>      <th>95.0% Conf. Int.</th>   \n",
       "</tr>\n",
       "<tr>\n",
       "  <th>mu</th> <td>   -0.0117</td> <td>2.664e-02</td> <td>   -0.439</td> <td>    0.660</td> <td>[-6.391e-02,4.050e-02]</td>\n",
       "</tr>\n",
       "</table>\n",
       "<table class=\"simpletable\">\n",
       "<caption>Volatility Model</caption>\n",
       "<tr>\n",
       "      <td></td>        <th>coef</th>     <th>std err</th>      <th>t</th>       <th>P>|t|</th>      <th>95.0% Conf. Int.</th>   \n",
       "</tr>\n",
       "<tr>\n",
       "  <th>omega</th>    <td>    0.0122</td> <td>9.841e-03</td> <td>    1.238</td> <td>    0.216</td> <td>[-7.105e-03,3.147e-02]</td>\n",
       "</tr>\n",
       "<tr>\n",
       "  <th>alpha[1]</th> <td>    0.0455</td> <td>4.199e-02</td> <td>    1.083</td> <td>    0.279</td>  <td>[-3.682e-02,  0.128]</td> \n",
       "</tr>\n",
       "<tr>\n",
       "  <th>alpha[2]</th> <td>    0.0162</td> <td>7.975e-02</td> <td>    0.203</td> <td>    0.839</td>    <td>[ -0.140,  0.173]</td>  \n",
       "</tr>\n",
       "<tr>\n",
       "  <th>alpha[3]</th> <td>    0.1340</td> <td>6.442e-02</td> <td>    2.081</td> <td>3.746e-02</td>   <td>[7.777e-03,  0.260]</td> \n",
       "</tr>\n",
       "<tr>\n",
       "  <th>beta[1]</th>    <td>0.0000</td>   <td>5.142e-02</td>   <td>0.000</td>   <td>    1.000</td>    <td>[ -0.101,  0.101]</td>  \n",
       "</tr>\n",
       "<tr>\n",
       "  <th>beta[2]</th>  <td>    0.7981</td> <td>5.114e-02</td> <td>   15.606</td> <td>6.674e-55</td>    <td>[  0.698,  0.898]</td>  \n",
       "</tr>\n",
       "</table>\n",
       "<table class=\"simpletable\">\n",
       "<caption>Distribution</caption>\n",
       "<tr>\n",
       "   <td></td>     <th>coef</th>     <th>std err</th>      <th>t</th>       <th>P>|t|</th>   <th>95.0% Conf. Int.</th> \n",
       "</tr>\n",
       "<tr>\n",
       "  <th>nu</th> <td>    6.4119</td> <td>    1.688</td> <td>    3.799</td> <td>1.453e-04</td> <td>[  3.104,  9.720]</td>\n",
       "</tr>\n",
       "</table><br/><br/>Covariance estimator: robust"
      ],
      "text/plain": [
       "<class 'statsmodels.iolib.summary.Summary'>\n",
       "\"\"\"\n",
       "                        Constant Mean - GARCH Model Results                         \n",
       "====================================================================================\n",
       "Dep. Variable:                         None   R-squared:                       0.000\n",
       "Mean Model:                   Constant Mean   Adj. R-squared:                  0.000\n",
       "Vol Model:                            GARCH   Log-Likelihood:               -719.184\n",
       "Distribution:      Standardized Student's t   AIC:                           1454.37\n",
       "Method:                  Maximum Likelihood   BIC:                           1490.12\n",
       "                                              No. Observations:                  645\n",
       "Date:                      Mon, Dec 27 2021   Df Residuals:                      644\n",
       "Time:                              16:54:58   Df Model:                            1\n",
       "                                  Mean Model                                 \n",
       "=============================================================================\n",
       "                 coef    std err          t      P>|t|       95.0% Conf. Int.\n",
       "-----------------------------------------------------------------------------\n",
       "mu            -0.0117  2.664e-02     -0.439      0.660 [-6.391e-02,4.050e-02]\n",
       "                               Volatility Model                              \n",
       "=============================================================================\n",
       "                 coef    std err          t      P>|t|       95.0% Conf. Int.\n",
       "-----------------------------------------------------------------------------\n",
       "omega          0.0122  9.841e-03      1.238      0.216 [-7.105e-03,3.147e-02]\n",
       "alpha[1]       0.0455  4.199e-02      1.083      0.279   [-3.682e-02,  0.128]\n",
       "alpha[2]       0.0162  7.975e-02      0.203      0.839      [ -0.140,  0.173]\n",
       "alpha[3]       0.1340  6.442e-02      2.081  3.746e-02    [7.777e-03,  0.260]\n",
       "beta[1]        0.0000  5.142e-02      0.000      1.000      [ -0.101,  0.101]\n",
       "beta[2]        0.7981  5.114e-02     15.606  6.674e-55      [  0.698,  0.898]\n",
       "                              Distribution                              \n",
       "========================================================================\n",
       "                 coef    std err          t      P>|t|  95.0% Conf. Int.\n",
       "------------------------------------------------------------------------\n",
       "nu             6.4119      1.688      3.799  1.453e-04 [  3.104,  9.720]\n",
       "========================================================================\n",
       "\n",
       "Covariance estimator: robust\n",
       "\"\"\""
      ]
     },
     "execution_count": 17,
     "metadata": {},
     "output_type": "execute_result"
    }
   ],
   "source": [
    "gmodel = arch_model(residual,p=3,q=2,mean='Constant',vol='GARCH',dist='t')\n",
    "vol_arma502 = gmodel.fit(disp='off')\n",
    "vol_arma502.summary()"
   ]
  },
  {
   "cell_type": "code",
   "execution_count": 18,
   "metadata": {},
   "outputs": [
    {
     "data": {
      "image/png": "[encoded data removed]",
      "text/plain": [
       "<Figure size 576x432 with 2 Axes>"
      ]
     },
     "metadata": {
      "needs_background": "light"
     },
     "output_type": "display_data"
    }
   ],
   "source": [
    "fig, (ax1,ax2) = plt.subplots(2,1,figsize=(8,6))\n",
    "ax1.plot(vol_arma502.std_resid)\n",
    "ax1.set_ylim(-9,3.8)\n",
    "ax1.set_title('Standardized Residuals')\n",
    "ax2.plot(vol_arma502.conditional_volatility)\n",
    "ax2.set_title('Conditional Volatility')\n",
    "fig.tight_layout()"
   ]
  },
  {
   "cell_type": "code",
   "execution_count": 20,
   "metadata": {},
   "outputs": [],
   "source": [
    "vol_forecast=vol_arma502.forecast(horizon=1,reindex=False).mean"
   ]
  },
  {
   "cell_type": "code",
   "execution_count": 21,
   "metadata": {},
   "outputs": [
    {
     "data": {
      "text/html": [
       "<div>\n",
       "<style scoped>\n",
       "    .dataframe tbody tr th:only-of-type {\n",
       "        vertical-align: middle;\n",
       "    }\n",
       "\n",
       "    .dataframe tbody tr th {\n",
       "        vertical-align: top;\n",
       "    }\n",
       "\n",
       "    .dataframe thead th {\n",
       "        text-align: right;\n",
       "    }\n",
       "</style>\n",
       "<table border=\"1\" class=\"dataframe\">\n",
       "  <thead>\n",
       "    <tr style=\"text-align: right;\">\n",
       "      <th></th>\n",
       "      <th>h.1</th>\n",
       "    </tr>\n",
       "    <tr>\n",
       "      <th>Date</th>\n",
       "      <th></th>\n",
       "    </tr>\n",
       "  </thead>\n",
       "  <tbody>\n",
       "    <tr>\n",
       "      <th>2018-09-09</th>\n",
       "      <td>-0.011705</td>\n",
       "    </tr>\n",
       "  </tbody>\n",
       "</table>\n",
       "</div>"
      ],
      "text/plain": [
       "                 h.1\n",
       "Date                \n",
       "2018-09-09 -0.011705"
      ]
     },
     "execution_count": 21,
     "metadata": {},
     "output_type": "execute_result"
    }
   ],
   "source": [
    "vol_forecast"
   ]
  },
  {
   "cell_type": "code",
   "execution_count": 22,
   "metadata": {},
   "outputs": [
    {
     "data": {
      "text/plain": [
       "Date\n",
       "2018-08-12   -0.09\n",
       "2018-08-19   -0.49\n",
       "2018-08-26    0.00\n",
       "2018-09-02   -0.27\n",
       "2018-09-09   -0.33\n",
       "Freq: W-SUN, Name: Close, dtype: float64"
      ]
     },
     "execution_count": 22,
     "metadata": {},
     "output_type": "execute_result"
    }
   ],
   "source": [
    "train.tail()"
   ]
  },
  {
   "cell_type": "code",
   "execution_count": 47,
   "metadata": {},
   "outputs": [
    {
     "name": "stdout",
     "output_type": "stream",
     "text": [
      "Base MAE = 0.518, Base RMSE = 0.822\n"
     ]
    }
   ],
   "source": [
    "base_pred_mean = test\n",
    "base_pred_mean[:] = 0.0\n",
    "base_pred = invert_difference(slv_test,base_pred_mean)\n",
    "mae_base = meanabs(slv_test[1:],base_pred)\n",
    "rmse_base = rmse(slv_test[1:],base_pred)\n",
    "print(f'Base MAE = {mae_base:.3f}, Base RMSE = {rmse_base:.3f}')"
   ]
  },
  {
   "cell_type": "code",
   "execution_count": 45,
   "metadata": {},
   "outputs": [
    {
     "data": {
      "text/plain": [
       "<AxesSubplot:xlabel='Date'>"
      ]
     },
     "execution_count": 45,
     "metadata": {},
     "output_type": "execute_result"
    },
    {
     "data": {
      "image/png": "[encoded data removed]",
      "text/plain": [
       "<Figure size 432x288 with 1 Axes>"
      ]
     },
     "metadata": {
      "needs_background": "light"
     },
     "output_type": "display_data"
    }
   ],
   "source": [
    "base_pred.plot()"
   ]
  },
  {
   "cell_type": "code",
   "execution_count": 173,
   "metadata": {},
   "outputs": [
    {
     "data": {
      "text/plain": [
       "Date\n",
       "2017-09-10    17.020000\n",
       "2017-09-17    16.620001\n",
       "2017-09-24    16.049999\n",
       "2017-10-01    15.740000\n",
       "2017-10-08    15.850000\n",
       "Freq: W-SUN, Name: Close, dtype: float64"
      ]
     },
     "execution_count": 173,
     "metadata": {},
     "output_type": "execute_result"
    }
   ],
   "source": [
    "slv_train['2017-09-10':'2018-09-09'].head()"
   ]
  },
  {
   "cell_type": "code",
   "execution_count": 209,
   "metadata": {},
   "outputs": [
    {
     "data": {
      "text/plain": [
       "564"
      ]
     },
     "execution_count": 209,
     "metadata": {},
     "output_type": "execute_result"
    }
   ],
   "source": [
    "len(slv_train)"
   ]
  },
  {
   "cell_type": "code",
   "execution_count": 213,
   "metadata": {},
   "outputs": [
    {
     "data": {
      "text/html": [
       "<div>\n",
       "<style scoped>\n",
       "    .dataframe tbody tr th:only-of-type {\n",
       "        vertical-align: middle;\n",
       "    }\n",
       "\n",
       "    .dataframe tbody tr th {\n",
       "        vertical-align: top;\n",
       "    }\n",
       "\n",
       "    .dataframe thead th {\n",
       "        text-align: right;\n",
       "    }\n",
       "</style>\n",
       "<table border=\"1\" class=\"dataframe\">\n",
       "  <thead>\n",
       "    <tr style=\"text-align: right;\">\n",
       "      <th></th>\n",
       "      <th>Day</th>\n",
       "      <th>Open</th>\n",
       "      <th>Low</th>\n",
       "      <th>High</th>\n",
       "      <th>Close</th>\n",
       "      <th>Volume</th>\n",
       "    </tr>\n",
       "    <tr>\n",
       "      <th>Date</th>\n",
       "      <th></th>\n",
       "      <th></th>\n",
       "      <th></th>\n",
       "      <th></th>\n",
       "      <th></th>\n",
       "      <th></th>\n",
       "    </tr>\n",
       "  </thead>\n",
       "  <tbody>\n",
       "    <tr>\n",
       "      <th>2008-07-18</th>\n",
       "      <td>560</td>\n",
       "      <td>18.114000</td>\n",
       "      <td>17.858000</td>\n",
       "      <td>18.270000</td>\n",
       "      <td>17.968000</td>\n",
       "      <td>6924000</td>\n",
       "    </tr>\n",
       "    <tr>\n",
       "      <th>2008-07-21</th>\n",
       "      <td>561</td>\n",
       "      <td>18.152000</td>\n",
       "      <td>18.045000</td>\n",
       "      <td>18.268000</td>\n",
       "      <td>18.228001</td>\n",
       "      <td>6467000</td>\n",
       "    </tr>\n",
       "    <tr>\n",
       "      <th>2008-07-22</th>\n",
       "      <td>562</td>\n",
       "      <td>18.372000</td>\n",
       "      <td>17.658001</td>\n",
       "      <td>18.396999</td>\n",
       "      <td>17.759001</td>\n",
       "      <td>10094000</td>\n",
       "    </tr>\n",
       "    <tr>\n",
       "      <th>2008-07-23</th>\n",
       "      <td>563</td>\n",
       "      <td>17.597000</td>\n",
       "      <td>17.087000</td>\n",
       "      <td>17.643999</td>\n",
       "      <td>17.190001</td>\n",
       "      <td>148182000</td>\n",
       "    </tr>\n",
       "    <tr>\n",
       "      <th>2008-07-24</th>\n",
       "      <td>564</td>\n",
       "      <td>17.299999</td>\n",
       "      <td>16.930000</td>\n",
       "      <td>17.389999</td>\n",
       "      <td>17.260000</td>\n",
       "      <td>4347500</td>\n",
       "    </tr>\n",
       "  </tbody>\n",
       "</table>\n",
       "</div>"
      ],
      "text/plain": [
       "            Day       Open        Low       High      Close     Volume\n",
       "Date                                                                  \n",
       "2008-07-18  560  18.114000  17.858000  18.270000  17.968000    6924000\n",
       "2008-07-21  561  18.152000  18.045000  18.268000  18.228001    6467000\n",
       "2008-07-22  562  18.372000  17.658001  18.396999  17.759001   10094000\n",
       "2008-07-23  563  17.597000  17.087000  17.643999  17.190001  148182000\n",
       "2008-07-24  564  17.299999  16.930000  17.389999  17.260000    4347500"
      ]
     },
     "execution_count": 213,
     "metadata": {},
     "output_type": "execute_result"
    }
   ],
   "source": [
    "slv_train.tail()"
   ]
  },
  {
   "cell_type": "code",
   "execution_count": 171,
   "metadata": {
    "scrolled": false
   },
   "outputs": [
    {
     "data": {
      "text/plain": [
       "Date\n",
       "2017-09-10    16.730000\n",
       "2017-09-17    17.020000\n",
       "2017-09-24    16.620001\n",
       "2017-10-01    16.049999\n",
       "2017-10-08    15.740000\n",
       "Freq: W-SUN, dtype: float64"
      ]
     },
     "execution_count": 171,
     "metadata": {},
     "output_type": "execute_result"
    }
   ],
   "source": [
    "base_pred.head()"
   ]
  },
  {
   "cell_type": "code",
   "execution_count": 24,
   "metadata": {},
   "outputs": [],
   "source": [
    "pred=arma502.get_prediction(-1)"
   ]
  },
  {
   "cell_type": "code",
   "execution_count": 34,
   "metadata": {},
   "outputs": [
    {
     "name": "stdout",
     "output_type": "stream",
     "text": [
      "2018-09-16   -0.083683\n",
      "2018-09-23    0.024015\n",
      "2018-09-30    0.095618\n",
      "2018-10-07    0.050385\n",
      "2018-10-14   -0.003651\n",
      "Freq: W-SUN, dtype: float64\n"
     ]
    }
   ],
   "source": [
    "fore502=arma502.get_forecast(steps=len(test))\n",
    "print(fore502.predicted_mean.head())"
   ]
  },
  {
   "cell_type": "code",
   "execution_count": 41,
   "metadata": {},
   "outputs": [
    {
     "data": {
      "text/plain": [
       "2018-09-16    13.236317\n",
       "2018-09-23    13.254015\n",
       "2018-09-30    13.535618\n",
       "2018-10-07    13.780385\n",
       "2018-10-14    13.746349\n",
       "Freq: W-SUN, dtype: float64"
      ]
     },
     "execution_count": 41,
     "metadata": {},
     "output_type": "execute_result"
    }
   ],
   "source": [
    "test502.head()"
   ]
  },
  {
   "cell_type": "code",
   "execution_count": 61,
   "metadata": {},
   "outputs": [],
   "source": [
    "ind = []\n",
    "fmt = lambda x : x.strftime('%Y-%m-%d')\n",
    "for date in slv_test.index:\n",
    "    ind.append(fmt(date))\n",
    "comp = pd.DataFrame({'slv':slv_test,'baseline':base_pred,'prediction':test502})\n",
    "comp.index = ind"
   ]
  },
  {
   "cell_type": "code",
   "execution_count": 63,
   "metadata": {},
   "outputs": [
    {
     "data": {
      "text/plain": [
       "'2018-09-09'"
      ]
     },
     "execution_count": 63,
     "metadata": {},
     "output_type": "execute_result"
    }
   ],
   "source": [
    "comp.index[0]"
   ]
  },
  {
   "cell_type": "code",
   "execution_count": 64,
   "metadata": {},
   "outputs": [
    {
     "data": {
      "text/plain": [
       "Date\n",
       "2018-09-09    13.32\n",
       "Freq: W-SUN, Name: Close, dtype: float64"
      ]
     },
     "execution_count": 64,
     "metadata": {},
     "output_type": "execute_result"
    }
   ],
   "source": [
    "slv_test[0:1]"
   ]
  },
  {
   "cell_type": "code",
   "execution_count": 65,
   "metadata": {},
   "outputs": [
    {
     "data": {
      "text/plain": [
       "Date\n",
       "2018-09-16    13.32\n",
       "Freq: W-SUN, dtype: float64"
      ]
     },
     "execution_count": 65,
     "metadata": {},
     "output_type": "execute_result"
    }
   ],
   "source": [
    "base_pred[0:1]"
   ]
  },
  {
   "cell_type": "code",
   "execution_count": 69,
   "metadata": {
    "scrolled": true
   },
   "outputs": [],
   "source": [
    "tt=comp.loc['2018-09-16':'2018-10-14']"
   ]
  },
  {
   "cell_type": "code",
   "execution_count": 74,
   "metadata": {},
   "outputs": [
    {
     "data": {
      "text/html": [
       "<div>\n",
       "<style scoped>\n",
       "    .dataframe tbody tr th:only-of-type {\n",
       "        vertical-align: middle;\n",
       "    }\n",
       "\n",
       "    .dataframe tbody tr th {\n",
       "        vertical-align: top;\n",
       "    }\n",
       "\n",
       "    .dataframe thead th {\n",
       "        text-align: right;\n",
       "    }\n",
       "</style>\n",
       "<table border=\"1\" class=\"dataframe\">\n",
       "  <thead>\n",
       "    <tr style=\"text-align: right;\">\n",
       "      <th></th>\n",
       "      <th>slv</th>\n",
       "      <th>baseline</th>\n",
       "      <th>prediction</th>\n",
       "    </tr>\n",
       "  </thead>\n",
       "  <tbody>\n",
       "    <tr>\n",
       "      <th>2018-09-16</th>\n",
       "      <td>13.23</td>\n",
       "      <td>13.32</td>\n",
       "      <td>13.236317</td>\n",
       "    </tr>\n",
       "    <tr>\n",
       "      <th>2018-09-23</th>\n",
       "      <td>13.44</td>\n",
       "      <td>13.23</td>\n",
       "      <td>13.254015</td>\n",
       "    </tr>\n",
       "    <tr>\n",
       "      <th>2018-09-30</th>\n",
       "      <td>13.73</td>\n",
       "      <td>13.44</td>\n",
       "      <td>13.535618</td>\n",
       "    </tr>\n",
       "    <tr>\n",
       "      <th>2018-10-07</th>\n",
       "      <td>13.75</td>\n",
       "      <td>13.73</td>\n",
       "      <td>13.780385</td>\n",
       "    </tr>\n",
       "    <tr>\n",
       "      <th>2018-10-14</th>\n",
       "      <td>13.74</td>\n",
       "      <td>13.75</td>\n",
       "      <td>13.746349</td>\n",
       "    </tr>\n",
       "  </tbody>\n",
       "</table>\n",
       "</div>"
      ],
      "text/plain": [
       "              slv  baseline  prediction\n",
       "2018-09-16  13.23     13.32   13.236317\n",
       "2018-09-23  13.44     13.23   13.254015\n",
       "2018-09-30  13.73     13.44   13.535618\n",
       "2018-10-07  13.75     13.73   13.780385\n",
       "2018-10-14  13.74     13.75   13.746349"
      ]
     },
     "execution_count": 74,
     "metadata": {},
     "output_type": "execute_result"
    }
   ],
   "source": [
    "tt.head()"
   ]
  },
  {
   "cell_type": "code",
   "execution_count": 87,
   "metadata": {},
   "outputs": [
    {
     "data": {
      "text/plain": [
       "Index(['2018-11-18', '2018-11-25', '2018-12-02', '2018-12-09', '2018-12-16'], dtype='object')"
      ]
     },
     "execution_count": 87,
     "metadata": {},
     "output_type": "execute_result"
    }
   ],
   "source": [
    "comp.index[10:15]"
   ]
  },
  {
   "cell_type": "code",
   "execution_count": 88,
   "metadata": {},
   "outputs": [
    {
     "name": "stdout",
     "output_type": "stream",
     "text": [
      "MAE = 0.172, RMSE = 0.217\n"
     ]
    }
   ],
   "source": [
    "mmae502 = meanabs(comp.loc['2018-11-18':'2018-12-16','slv'],comp.loc['2018-11-18':'2018-12-16','baseline'])\n",
    "rrmse502 = rmse(comp.loc['2018-11-18':'2018-12-16','slv'],comp.loc['2018-11-18':'2018-12-16','baseline'])\n",
    "print(f'MAE = {mmae502:.3f}, RMSE = {rrmse502:.3f}')"
   ]
  },
  {
   "cell_type": "code",
   "execution_count": 89,
   "metadata": {},
   "outputs": [
    {
     "name": "stdout",
     "output_type": "stream",
     "text": [
      "MAE = 0.174, RMSE = 0.219\n"
     ]
    }
   ],
   "source": [
    "mmae502 = meanabs(comp.loc['2018-11-18':'2018-12-16','slv'],comp.loc['2018-11-18':'2018-12-16','prediction'])\n",
    "rrmse502 = rmse(comp.loc['2018-11-18':'2018-12-16','slv'],comp.loc['2018-11-18':'2018-12-16','prediction'])\n",
    "print(f'MAE = {mmae502:.3f}, RMSE = {rrmse502:.3f}')"
   ]
  },
  {
   "cell_type": "code",
   "execution_count": 56,
   "metadata": {},
   "outputs": [
    {
     "data": {
      "text/plain": [
       "2018-11-25    13.531056\n",
       "Freq: W-SUN, dtype: float64"
      ]
     },
     "execution_count": 56,
     "metadata": {},
     "output_type": "execute_result"
    }
   ],
   "source": [
    "test502[10:11]"
   ]
  },
  {
   "cell_type": "code",
   "execution_count": 42,
   "metadata": {},
   "outputs": [
    {
     "name": "stderr",
     "output_type": "stream",
     "text": [
      "/Users/macbookpro/opt/anaconda3/lib/python3.7/site-packages/statsmodels/tsa/statespace/sarimax.py:963: UserWarning: Non-stationary starting autoregressive parameters found. Using zeros as starting parameters.\n",
      "  warn('Non-stationary starting autoregressive parameters'\n",
      "/Users/macbookpro/opt/anaconda3/lib/python3.7/site-packages/statsmodels/tsa/statespace/sarimax.py:975: UserWarning: Non-invertible starting MA parameters found. Using zeros as starting parameters.\n",
      "  warn('Non-invertible starting MA parameters found.'\n"
     ]
    },
    {
     "name": "stdout",
     "output_type": "stream",
     "text": [
      "MAE = 0.517, RMSE = 0.822\n"
     ]
    },
    {
     "data": {
      "image/png": "[encoded data removed]",
      "text/plain": [
       "<Figure size 432x288 with 1 Axes>"
      ]
     },
     "metadata": {
      "needs_background": "light"
     },
     "output_type": "display_data"
    }
   ],
   "source": [
    "model = ARIMA(train,order=(5,0,2),trend='n')\n",
    "arma502 = model.fit()\n",
    "test_diff502 = arma502.get_forecast(steps=len(test))\n",
    "test_diff502_mean = fore502.predicted_mean\n",
    "test502 = invert_difference(slv_test,test_diff502_mean)\n",
    "slv_test.plot()\n",
    "test502.plot(color='green')\n",
    "mae502 = meanabs(slv_test[1:10],test502[1:10])\n",
    "rmse502 = rmse(slv_test[1:],test502)\n",
    "print(f'MAE = {mae502:.3f}, RMSE = {rmse502:.3f}')"
   ]
  },
  {
   "cell_type": "code",
   "execution_count": 223,
   "metadata": {},
   "outputs": [
    {
     "data": {
      "text/plain": [
       "Date\n",
       "2016-02-21    14.952874\n",
       "2016-02-28    14.532890\n",
       "2016-03-06    13.926846\n",
       "2016-03-13    14.775131\n",
       "2016-03-20    14.720313\n",
       "2016-03-27    14.979658\n",
       "2016-04-03    14.605378\n",
       "2016-04-10    14.188767\n",
       "2016-04-17    14.542566\n",
       "2016-04-24    15.524699\n",
       "2016-05-01    16.387673\n",
       "2016-05-08    16.989636\n",
       "2016-05-15    16.343838\n",
       "2016-05-22    15.949043\n",
       "2016-05-29    15.788027\n",
       "2016-06-05    15.491841\n",
       "2016-06-12    15.662295\n",
       "2016-06-19    16.528911\n",
       "2016-06-26    16.682940\n",
       "2016-07-03    16.880081\n",
       "2016-07-10    18.778742\n",
       "2016-07-17    19.096510\n",
       "2016-07-24    18.819452\n",
       "2016-07-31    18.731074\n",
       "2016-08-07    19.248659\n",
       "2016-08-14    18.545211\n",
       "2016-08-21    18.680573\n",
       "2016-08-28    18.693302\n",
       "2016-09-04    17.571256\n",
       "2016-09-11    18.305057\n",
       "2016-09-18    18.260971\n",
       "2016-09-25    17.943934\n",
       "2016-10-02    18.836591\n",
       "2016-10-09    17.992439\n",
       "2016-10-16    16.278597\n",
       "2016-10-23    16.804688\n",
       "2016-10-30    16.945812\n",
       "2016-11-06    16.709686\n",
       "2016-11-13    17.553407\n",
       "2016-11-20    16.593736\n",
       "2016-11-27    15.530373\n",
       "2016-12-04    15.553889\n",
       "2016-12-11    15.868472\n",
       "2016-12-18    16.241087\n",
       "2016-12-25    15.399506\n",
       "2017-01-01    14.672474\n",
       "2017-01-08    14.985015\n",
       "2017-01-15    15.815318\n",
       "2017-01-22    16.233576\n",
       "2017-01-29    16.155416\n",
       "2017-02-05    15.919484\n",
       "2017-02-12    16.432469\n",
       "2017-02-19    17.247165\n",
       "Freq: W-SUN, dtype: float64"
      ]
     },
     "execution_count": 223,
     "metadata": {},
     "output_type": "execute_result"
    }
   ],
   "source": [
    "prediction502[tbeg:tfin]"
   ]
  },
  {
   "cell_type": "code",
   "execution_count": 221,
   "metadata": {},
   "outputs": [
    {
     "ename": "ValueError",
     "evalue": "operands could not be broadcast together with shapes (52,) (53,) ",
     "output_type": "error",
     "traceback": [
      "\u001b[0;31m---------------------------------------------------------------------------\u001b[0m",
      "\u001b[0;31mValueError\u001b[0m                                Traceback (most recent call last)",
      "\u001b[0;32m<ipython-input-221-a7c9d1d37616>\u001b[0m in \u001b[0;36m<module>\u001b[0;34m\u001b[0m\n\u001b[0;32m----> 1\u001b[0;31m \u001b[0mmae502\u001b[0m \u001b[0;34m=\u001b[0m \u001b[0mmeanabs\u001b[0m\u001b[0;34m(\u001b[0m\u001b[0mslv_train\u001b[0m\u001b[0;34m[\u001b[0m\u001b[0mtbeg\u001b[0m\u001b[0;34m:\u001b[0m\u001b[0mtfin\u001b[0m\u001b[0;34m]\u001b[0m\u001b[0;34m,\u001b[0m\u001b[0mprediction502\u001b[0m\u001b[0;34m[\u001b[0m\u001b[0mtbeg\u001b[0m\u001b[0;34m:\u001b[0m\u001b[0mtfin\u001b[0m\u001b[0;34m]\u001b[0m\u001b[0;34m)\u001b[0m\u001b[0;34m\u001b[0m\u001b[0;34m\u001b[0m\u001b[0m\n\u001b[0m",
      "\u001b[0;32m~/opt/anaconda3/lib/python3.7/site-packages/statsmodels/tools/eval_measures.py\u001b[0m in \u001b[0;36mmeanabs\u001b[0;34m(x1, x2, axis)\u001b[0m\n\u001b[1;32m    120\u001b[0m     \u001b[0mx1\u001b[0m \u001b[0;34m=\u001b[0m \u001b[0mnp\u001b[0m\u001b[0;34m.\u001b[0m\u001b[0masanyarray\u001b[0m\u001b[0;34m(\u001b[0m\u001b[0mx1\u001b[0m\u001b[0;34m)\u001b[0m\u001b[0;34m\u001b[0m\u001b[0;34m\u001b[0m\u001b[0m\n\u001b[1;32m    121\u001b[0m     \u001b[0mx2\u001b[0m \u001b[0;34m=\u001b[0m \u001b[0mnp\u001b[0m\u001b[0;34m.\u001b[0m\u001b[0masanyarray\u001b[0m\u001b[0;34m(\u001b[0m\u001b[0mx2\u001b[0m\u001b[0;34m)\u001b[0m\u001b[0;34m\u001b[0m\u001b[0;34m\u001b[0m\u001b[0m\n\u001b[0;32m--> 122\u001b[0;31m     \u001b[0;32mreturn\u001b[0m \u001b[0mnp\u001b[0m\u001b[0;34m.\u001b[0m\u001b[0mmean\u001b[0m\u001b[0;34m(\u001b[0m\u001b[0mnp\u001b[0m\u001b[0;34m.\u001b[0m\u001b[0mabs\u001b[0m\u001b[0;34m(\u001b[0m\u001b[0mx1\u001b[0m\u001b[0;34m-\u001b[0m\u001b[0mx2\u001b[0m\u001b[0;34m)\u001b[0m\u001b[0;34m,\u001b[0m \u001b[0maxis\u001b[0m\u001b[0;34m=\u001b[0m\u001b[0maxis\u001b[0m\u001b[0;34m)\u001b[0m\u001b[0;34m\u001b[0m\u001b[0;34m\u001b[0m\u001b[0m\n\u001b[0m\u001b[1;32m    123\u001b[0m \u001b[0;34m\u001b[0m\u001b[0m\n\u001b[1;32m    124\u001b[0m \u001b[0;34m\u001b[0m\u001b[0m\n",
      "\u001b[0;31mValueError\u001b[0m: operands could not be broadcast together with shapes (52,) (53,) "
     ]
    }
   ],
   "source": [
    "mae502 = meanabs(slv_train[tbeg:tfin],prediction502[tbeg:tfin])"
   ]
  },
  {
   "cell_type": "code",
   "execution_count": 218,
   "metadata": {
    "scrolled": true
   },
   "outputs": [
    {
     "name": "stderr",
     "output_type": "stream",
     "text": [
      "/Users/macbookpro/opt/anaconda3/lib/python3.7/site-packages/statsmodels/tsa/statespace/sarimax.py:963: UserWarning: Non-stationary starting autoregressive parameters found. Using zeros as starting parameters.\n",
      "  warn('Non-stationary starting autoregressive parameters'\n",
      "/Users/macbookpro/opt/anaconda3/lib/python3.7/site-packages/statsmodels/tsa/statespace/sarimax.py:975: UserWarning: Non-invertible starting MA parameters found. Using zeros as starting parameters.\n",
      "  warn('Non-invertible starting MA parameters found.'\n"
     ]
    },
    {
     "ename": "ValueError",
     "evalue": "operands could not be broadcast together with shapes (52,) (53,) ",
     "output_type": "error",
     "traceback": [
      "\u001b[0;31m---------------------------------------------------------------------------\u001b[0m",
      "\u001b[0;31mValueError\u001b[0m                                Traceback (most recent call last)",
      "\u001b[0;32m<ipython-input-218-9b72164822c1>\u001b[0m in \u001b[0;36m<module>\u001b[0;34m\u001b[0m\n\u001b[1;32m     15\u001b[0m \u001b[0mslv_train\u001b[0m\u001b[0;34m[\u001b[0m\u001b[0;34m'2016-07-01'\u001b[0m\u001b[0;34m:\u001b[0m\u001b[0;34m]\u001b[0m\u001b[0;34m.\u001b[0m\u001b[0mplot\u001b[0m\u001b[0;34m(\u001b[0m\u001b[0mlabel\u001b[0m\u001b[0;34m=\u001b[0m\u001b[0;34m'training set'\u001b[0m\u001b[0;34m)\u001b[0m\u001b[0;34m\u001b[0m\u001b[0;34m\u001b[0m\u001b[0m\n\u001b[1;32m     16\u001b[0m \u001b[0mprediction502\u001b[0m\u001b[0;34m.\u001b[0m\u001b[0mplot\u001b[0m\u001b[0;34m(\u001b[0m\u001b[0mcolor\u001b[0m\u001b[0;34m=\u001b[0m\u001b[0;34m'red'\u001b[0m\u001b[0;34m,\u001b[0m\u001b[0mlinestyle\u001b[0m\u001b[0;34m=\u001b[0m\u001b[0;34m'--'\u001b[0m\u001b[0;34m,\u001b[0m\u001b[0mlabel\u001b[0m\u001b[0;34m=\u001b[0m\u001b[0;34m'in-sample prediction'\u001b[0m\u001b[0;34m)\u001b[0m\u001b[0;34m\u001b[0m\u001b[0;34m\u001b[0m\u001b[0m\n\u001b[0;32m---> 17\u001b[0;31m \u001b[0mmae502\u001b[0m \u001b[0;34m=\u001b[0m \u001b[0mmeanabs\u001b[0m\u001b[0;34m(\u001b[0m\u001b[0mslv_train\u001b[0m\u001b[0;34m[\u001b[0m\u001b[0mtbeg\u001b[0m\u001b[0;34m:\u001b[0m\u001b[0mtfin\u001b[0m\u001b[0;34m]\u001b[0m\u001b[0;34m,\u001b[0m\u001b[0mprediction502\u001b[0m\u001b[0;34m[\u001b[0m\u001b[0mtbeg\u001b[0m\u001b[0;34m:\u001b[0m\u001b[0mtfin\u001b[0m\u001b[0;34m]\u001b[0m\u001b[0;34m)\u001b[0m\u001b[0;34m\u001b[0m\u001b[0;34m\u001b[0m\u001b[0m\n\u001b[0m\u001b[1;32m     18\u001b[0m \u001b[0mrmse502\u001b[0m \u001b[0;34m=\u001b[0m \u001b[0mrmse\u001b[0m\u001b[0;34m(\u001b[0m\u001b[0mslv_train\u001b[0m\u001b[0;34m[\u001b[0m\u001b[0mtbeg\u001b[0m\u001b[0;34m:\u001b[0m\u001b[0mtfin\u001b[0m\u001b[0;34m]\u001b[0m\u001b[0;34m,\u001b[0m\u001b[0mprediction502\u001b[0m\u001b[0;34m[\u001b[0m\u001b[0mtbeg\u001b[0m\u001b[0;34m:\u001b[0m\u001b[0mtfin\u001b[0m\u001b[0;34m]\u001b[0m\u001b[0;34m)\u001b[0m\u001b[0;34m\u001b[0m\u001b[0;34m\u001b[0m\u001b[0m\n\u001b[1;32m     19\u001b[0m \u001b[0max\u001b[0m\u001b[0;34m.\u001b[0m\u001b[0mset_xlabel\u001b[0m\u001b[0;34m(\u001b[0m\u001b[0;34m'Date'\u001b[0m\u001b[0;34m)\u001b[0m\u001b[0;34m\u001b[0m\u001b[0;34m\u001b[0m\u001b[0m\n",
      "\u001b[0;32m~/opt/anaconda3/lib/python3.7/site-packages/statsmodels/tools/eval_measures.py\u001b[0m in \u001b[0;36mmeanabs\u001b[0;34m(x1, x2, axis)\u001b[0m\n\u001b[1;32m    120\u001b[0m     \u001b[0mx1\u001b[0m \u001b[0;34m=\u001b[0m \u001b[0mnp\u001b[0m\u001b[0;34m.\u001b[0m\u001b[0masanyarray\u001b[0m\u001b[0;34m(\u001b[0m\u001b[0mx1\u001b[0m\u001b[0;34m)\u001b[0m\u001b[0;34m\u001b[0m\u001b[0;34m\u001b[0m\u001b[0m\n\u001b[1;32m    121\u001b[0m     \u001b[0mx2\u001b[0m \u001b[0;34m=\u001b[0m \u001b[0mnp\u001b[0m\u001b[0;34m.\u001b[0m\u001b[0masanyarray\u001b[0m\u001b[0;34m(\u001b[0m\u001b[0mx2\u001b[0m\u001b[0;34m)\u001b[0m\u001b[0;34m\u001b[0m\u001b[0;34m\u001b[0m\u001b[0m\n\u001b[0;32m--> 122\u001b[0;31m     \u001b[0;32mreturn\u001b[0m \u001b[0mnp\u001b[0m\u001b[0;34m.\u001b[0m\u001b[0mmean\u001b[0m\u001b[0;34m(\u001b[0m\u001b[0mnp\u001b[0m\u001b[0;34m.\u001b[0m\u001b[0mabs\u001b[0m\u001b[0;34m(\u001b[0m\u001b[0mx1\u001b[0m\u001b[0;34m-\u001b[0m\u001b[0mx2\u001b[0m\u001b[0;34m)\u001b[0m\u001b[0;34m,\u001b[0m \u001b[0maxis\u001b[0m\u001b[0;34m=\u001b[0m\u001b[0maxis\u001b[0m\u001b[0;34m)\u001b[0m\u001b[0;34m\u001b[0m\u001b[0;34m\u001b[0m\u001b[0m\n\u001b[0m\u001b[1;32m    123\u001b[0m \u001b[0;34m\u001b[0m\u001b[0m\n\u001b[1;32m    124\u001b[0m \u001b[0;34m\u001b[0m\u001b[0m\n",
      "\u001b[0;31mValueError\u001b[0m: operands could not be broadcast together with shapes (52,) (53,) "
     ]
    },
    {
     "data": {
      "image/png": "[encoded data removed]",
      "text/plain": [
       "<Figure size 864x360 with 1 Axes>"
      ]
     },
     "metadata": {
      "needs_background": "light"
     },
     "output_type": "display_data"
    }
   ],
   "source": [
    "model = ARIMA(train,order=(5,0,2),trend='n')\n",
    "arma502 = model.fit()\n",
    "pred502 = arma502.get_prediction(start=-53,dynamic=False)\n",
    "pred502_mean = pred502.predicted_mean\n",
    "prediction502 = invert_difference(slv_train,pred502_mean)\n",
    "pred502_ci = pred502.conf_int()\n",
    "pred502_ll = pred502_ci.loc[:,'lower Close']\n",
    "pred502_ul = pred502_ci.loc[:,'upper Close']\n",
    "pred_ll = invert_difference(slv_train,pred502_ll)\n",
    "pred_ul = invert_difference(slv_train,pred502_ul)\n",
    "tbeg = pred502_mean.index[0].strftime('%Y-%m-%d')\n",
    "tfin = pred502_mean.index[-1].strftime('%Y-%m-%d')\n",
    "\n",
    "fig, ax = plt.subplots(1,1,figsize=(12,5))\n",
    "slv_train['2014-07-01':].plot(label='training set')\n",
    "prediction502.plot(color='red',linestyle='--',label='in-sample prediction')\n",
    "mae502 = meanabs(slv_train[tbeg:tfin],prediction502[tbeg:tfin])\n",
    "rmse502 = rmse(slv_train[tbeg:tfin],prediction502[tbeg:tfin])\n",
    "ax.set_xlabel('Date')\n",
    "ax.set_ylabel('SLV Price')\n",
    "ax.text(datetime.date(2016,8,1),14,f'MAE = {mae502:.3f}',fontsize=20)\n",
    "ax.text(datetime.date(2016,8,1),13,f'RMSE = {rmse502:.3f}',fontsize=20)\n",
    "ax.fill_between(pred_ll.index, pred_ll, pred_ul, color='red',alpha=0.2,label='confidence interval')\n",
    "plt.legend(loc='best')\n",
    "fig.tight_layout()"
   ]
  },
  {
   "cell_type": "code",
   "execution_count": 360,
   "metadata": {},
   "outputs": [],
   "source": [
    "train_slv, test_slv = weekly.Close[0:split], weekly.Close[split:]"
   ]
  },
  {
   "cell_type": "code",
   "execution_count": 408,
   "metadata": {},
   "outputs": [
    {
     "data": {
      "image/png": "[encoded data removed]",
      "text/plain": [
       "<Figure size 864x360 with 1 Axes>"
      ]
     },
     "metadata": {
      "needs_background": "light"
     },
     "output_type": "display_data"
    }
   ],
   "source": [
    "rtest502 = arma502.get_prediction(start=test_slv.index[0],end=test_slv.index[-1])\n",
    "rtest502_mean = rtest502.predicted_mean\n",
    "pred_test502 = invert_difference(test_slv,rtest502_mean)\n",
    "mae_test502 = meanabs(test_slv['2018-09-23':'2021-10-10'],pred_test502['2018-09-23':'2021-10-10'])\n",
    "rmse_test502 = rmse(test_slv['2018-09-23':'2021-10-10'],pred_test502['2018-09-23':'2021-10-10'])\n",
    "\n",
    "rtest502_ci = rtest502.conf_int()\n",
    "rtest502_ll = rtest502_ci.loc[:,'lower Close']\n",
    "rtest502_ul = rtest502_ci.loc[:,'upper Close']\n",
    "pred_ll = invert_difference(test_slv,rtest502_ll)\n",
    "pred_ul = invert_difference(test_slv,rtest502_ul)\n",
    "\n",
    "\n",
    "fig, ax = plt.subplots(1,1,figsize=(12,5))\n",
    "xmin = datetime.date(2015,9,1)\n",
    "xmax = datetime.date(2021,10,10)\n",
    "ax.set_xlim(xmin,xmax)\n",
    "train_slv['2015-09-01':].plot(label='training set')\n",
    "test_slv.plot(color='red',label='test set')\n",
    "pred_test502.plot(color='green',label='out-of-sample prediction')\n",
    "ax.fill_between(pred_ll.index, pred_ll, pred_ul, color='red',alpha=0.2,label='confidence interval')\n",
    "ax.set_xlabel('Date')\n",
    "ax.set_ylabel('SLV Price')\n",
    "ax.text(datetime.date(2015,10,1),22,f'MAE = {mae_test502:.3f}',fontsize=20)\n",
    "ax.text(datetime.date(2015,10,1),20,f'RMSE = {rmse_test502:.3f}',fontsize=20)\n",
    "plt.legend(loc='best')\n",
    "fig.tight_layout()"
   ]
  },
  {
   "cell_type": "code",
   "execution_count": 403,
   "metadata": {
    "scrolled": true
   },
   "outputs": [
    {
     "data": {
      "text/plain": [
       "2018-09-23    13.253689\n",
       "2018-09-30    13.535344\n",
       "2018-10-07    13.781299\n",
       "2018-10-14    13.746388\n",
       "2018-10-21    13.706002\n",
       "                ...    \n",
       "2021-09-19    21.990004\n",
       "2021-09-26    20.739978\n",
       "2021-10-03    20.709993\n",
       "2021-10-10    20.830019\n",
       "2021-10-17    20.950009\n",
       "Freq: W-SUN, Length: 161, dtype: float64"
      ]
     },
     "execution_count": 403,
     "metadata": {},
     "output_type": "execute_result"
    }
   ],
   "source": [
    "pred_test502"
   ]
  },
  {
   "cell_type": "code",
   "execution_count": null,
   "metadata": {},
   "outputs": [],
   "source": []
  }
 ],
 "metadata": {
  "kernelspec": {
   "display_name": "Python 3",
   "language": "python",
   "name": "python3"
  },
  "language_info": {
   "codemirror_mode": {
    "name": "ipython",
    "version": 3
   },
   "file_extension": ".py",
   "mimetype": "text/x-python",
   "name": "python",
   "nbconvert_exporter": "python",
   "pygments_lexer": "ipython3",
   "version": "3.7.4"
  }
 },
 "nbformat": 4,
 "nbformat_minor": 4
}
